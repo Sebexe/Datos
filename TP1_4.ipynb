{
 "cells": [
  {
   "cell_type": "code",
   "execution_count": 2,
   "metadata": {},
   "outputs": [],
   "source": [
    "import numpy as np\n",
    "import pandas as pd"
   ]
  },
  {
   "cell_type": "code",
   "execution_count": 3,
   "metadata": {},
   "outputs": [
    {
     "name": "stdout",
     "output_type": "stream",
     "text": [
      "   Cantidad de terneros  f\n",
      "0                     9  4\n",
      "1                    10  6\n",
      "2                    11  5\n",
      "3                    12  3\n",
      "4                    14  5\n",
      "5                    15  4\n",
      "6                    20  3\n"
     ]
    }
   ],
   "source": [
    "datos = pd.Series([10, 15, 11, 20, 14, 10, 12, 12, 11, 14, 9, 15, 10,\n",
    "                  10, 11, 20, 14, 14, 11, 9, 10, 10, 9, 14, 15, 12, 9, 11, 15, 20])\n",
    "\n",
    "apariciones = datos.value_counts()\n",
    "\n",
    "variableEstudio = \"Cantidad de terneros\"\n",
    "\n",
    "df = pd.DataFrame(\n",
    "    {variableEstudio: apariciones.index, 'f': apariciones.values})\n",
    "\n",
    "df = df.sort_values(by=variableEstudio).reset_index(drop=True)\n",
    "print(df)"
   ]
  },
  {
   "cell_type": "code",
   "execution_count": 6,
   "metadata": {},
   "outputs": [
    {
     "name": "stdout",
     "output_type": "stream",
     "text": [
      "   Cantidad de terneros  f   F   G      fr     fr %  Fr Acumulativo  \\\n",
      "0                     9  4   4  30  0.1333  13.3333         13.3333   \n",
      "1                    10  6  10  26  0.2000  20.0000         33.3333   \n",
      "2                    11  5  15  20  0.1667  16.6667         50.0000   \n",
      "3                    12  3  18  15  0.1000  10.0000         60.0000   \n",
      "4                    14  5  23  12  0.1667  16.6667         76.6667   \n",
      "5                    15  4  27   7  0.1333  13.3333         90.0000   \n",
      "6                    20  3  30   3  0.1000  10.0000        100.0000   \n",
      "\n",
      "   Gr Acumulativo  \n",
      "0        100.0000  \n",
      "1         86.6667  \n",
      "2         66.6667  \n",
      "3         50.0000  \n",
      "4         40.0000  \n",
      "5         23.3333  \n",
      "6         10.0000  \n"
     ]
    }
   ],
   "source": [
    "df[\"F\"] = df[\"f\"].cumsum()\n",
    "df[\"G\"] = df.sort_values(by=variableEstudio,ascending=False)[\"f\"].cumsum()\n",
    "df[\"fr\"] = round(df[\"f\"] / df[\"f\"].sum(),4)\n",
    "df[\"fr %\"] = round(df[\"f\"] / df[\"f\"].sum()*100,4)\n",
    "df[\"Fr Acumulativo\"] = df[\"fr %\"].cumsum()\n",
    "df[\"Gr Acumulativo\"] = df.sort_values(by=variableEstudio,ascending=False)[\"fr %\"].cumsum()\n",
    "print(df)"
   ]
  },
  {
   "cell_type": "code",
   "execution_count": 9,
   "metadata": {},
   "outputs": [
    {
     "name": "stdout",
     "output_type": "stream",
     "text": [
      "5.0 campos tienen 11.0 terneros, 15.0 campos tienen como maximo 11.0 terneros, 20.0 campos tienen como minimo 11.0 terneros. El 16.6667 % de los campos tiene 11.0 terneros\n"
     ]
    }
   ],
   "source": [
    "print(f\"{df.loc[2][\"f\"]} campos tienen {df.loc[2][variableEstudio]} terneros, {\n",
    "      df.loc[2][\"F\"]} campos tienen como maximo {df.loc[2][variableEstudio]} terneros, {df.loc[2][\"G\"]} campos tienen como minimo {df.loc[2][variableEstudio]} terneros. El {df.loc[2][\"fr %\"]} % de los campos tiene {df.loc[2][variableEstudio]} terneros\")"
   ]
  },
  {
   "cell_type": "code",
   "execution_count": 12,
   "metadata": {},
   "outputs": [
    {
     "name": "stdout",
     "output_type": "stream",
     "text": [
      "El promedio es 12.5667 terneros\n",
      "El coeficiente de variacion es 24.021%, no es significativo\n"
     ]
    }
   ],
   "source": [
    "promedio = round((df[\"f\"] * df[variableEstudio]).sum() / df['f'].sum() ,4)\n",
    "\n",
    "\n",
    "varianza = round((df[\"f\"] * (df[variableEstudio] - promedio)\n",
    "            ** 2).sum() / df['f'].sum() - 1,4)\n",
    "\n",
    "\n",
    "cv = round((varianza ** 0.5 / promedio)*100,4)\n",
    "\n",
    "print(\"El promedio es\",promedio, \"terneros\")\n",
    "significativo = \"es significativo\" if cv < 20 else \"no es significativo\"\n",
    "print(f\"El coeficiente de variacion es {cv}%, {significativo}\")"
   ]
  },
  {
   "cell_type": "code",
   "execution_count": 13,
   "metadata": {},
   "outputs": [
    {
     "name": "stdout",
     "output_type": "stream",
     "text": [
      "La cantidad de terneros mas frecuente es 10\n"
     ]
    }
   ],
   "source": [
    "print(f\"La {variableEstudio.lower()} mas frecuente es\",df.loc[df[\"f\"].idxmax(),variableEstudio])"
   ]
  },
  {
   "cell_type": "code",
   "execution_count": 14,
   "metadata": {},
   "outputs": [
    {
     "name": "stdout",
     "output_type": "stream",
     "text": [
      "La mediana son 11.5 terneros\n"
     ]
    }
   ],
   "source": [
    "mitad = df[\"f\"].sum() / 2\n",
    "mediana = 0\n",
    "\n",
    "for index, row in df.iterrows():\n",
    "  if row['F'] == mitad:\n",
    "    mediana = (df.loc[index+1][variableEstudio] + row[variableEstudio]) / 2\n",
    "    break \n",
    "  elif row[\"F\"] > mitad:\n",
    "    mediana = row[variableEstudio]\n",
    "    break\n",
    "\n",
    "print(f\"La mediana son {mediana} terneros\")"
   ]
  },
  {
   "cell_type": "code",
   "execution_count": 15,
   "metadata": {},
   "outputs": [
    {
     "name": "stdout",
     "output_type": "stream",
     "text": [
      "En el 66.6667% de los campos hay 11 terneros\n",
      "En el 76.6667% de los campos hay 14 terneros\n",
      "En el 40.0% de los campos hay mas de 13 terneros\n",
      "En el 50.0% de los campos hay menos de 12 terneros\n"
     ]
    }
   ],
   "source": [
    "\n",
    "f1 = df[df[variableEstudio] == 11][\"Gr Acumulativo\"][2]\n",
    "f2 = df[df[variableEstudio] == 14][\"Fr Acumulativo\"][4]\n",
    "f3 = df[df[variableEstudio] > 13][\"Gr Acumulativo\"].max()\n",
    "f4 = df[df[variableEstudio] < 12][\"Fr Acumulativo\"].max()\n",
    "\n",
    "print(f\"En el {round(f1,4)}% de los campos hay 11 terneros\")\n",
    "print(f\"En el {round(f2,4)}% de los campos hay 14 terneros\")\n",
    "print(f\"En el {round(f3,4)}% de los campos hay mas de 13 terneros\")\n",
    "print(f\"En el {round(f4,4)}% de los campos hay menos de 12 terneros\")\n"
   ]
  }
 ],
 "metadata": {
  "kernelspec": {
   "display_name": "Python 3",
   "language": "python",
   "name": "python3"
  },
  "language_info": {
   "codemirror_mode": {
    "name": "ipython",
    "version": 3
   },
   "file_extension": ".py",
   "mimetype": "text/x-python",
   "name": "python",
   "nbconvert_exporter": "python",
   "pygments_lexer": "ipython3",
   "version": "3.12.0"
  }
 },
 "nbformat": 4,
 "nbformat_minor": 2
}
