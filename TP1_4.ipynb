{
 "cells": [
  {
   "cell_type": "code",
   "execution_count": 1,
   "metadata": {},
   "outputs": [],
   "source": [
    "import numpy as np\n",
    "import pandas as pd"
   ]
  },
  {
   "cell_type": "code",
   "execution_count": 28,
   "metadata": {},
   "outputs": [
    {
     "name": "stdout",
     "output_type": "stream",
     "text": [
      "   Cantidad de terneros  f\n",
      "0                     9  4\n",
      "1                    10  6\n",
      "2                    11  5\n",
      "3                    12  3\n",
      "4                    14  5\n",
      "5                    15  4\n",
      "6                    20  3\n"
     ]
    }
   ],
   "source": [
    "datos = pd.Series([10, 15, 11, 20, 14, 10, 12, 12, 11, 14, 9, 15, 10,\n",
    "                  10, 11, 20, 14, 14, 11, 9, 10, 10, 9, 14, 15, 12, 9, 11, 15, 20])\n",
    "\n",
    "apariciones = datos.value_counts()\n",
    "\n",
    "variableEstudio = \"Cantidad de terneros\"\n",
    "\n",
    "df = pd.DataFrame(\n",
    "    {variableEstudio: apariciones.index, 'f': apariciones.values})\n",
    "\n",
    "df = df.sort_values(by=variableEstudio).reset_index(drop=True)\n",
    "print(df)"
   ]
  },
  {
   "cell_type": "code",
   "execution_count": 76,
   "metadata": {},
   "outputs": [
    {
     "name": "stdout",
     "output_type": "stream",
     "text": [
      "   Cantidad de terneros  f   F   G      Fr     Fr %  Fr Acumulativo      fr  \\\n",
      "0                     9  4   4  30  0.1333  13.3333         13.3333  0.1333   \n",
      "1                    10  6  10  26  0.2000  20.0000         33.3333  0.2000   \n",
      "2                    11  5  15  20  0.1667  16.6667         50.0000  0.1667   \n",
      "3                    12  3  18  15  0.1000  10.0000         60.0000  0.1000   \n",
      "4                    14  5  23  12  0.1667  16.6667         76.6667  0.1667   \n",
      "5                    15  4  27   7  0.1333  13.3333         90.0000  0.1333   \n",
      "6                    20  3  30   3  0.1000  10.0000        100.0000  0.1000   \n",
      "\n",
      "      fr %  Gr Acumulativo  \n",
      "0  13.3333        100.0000  \n",
      "1  20.0000         86.6667  \n",
      "2  16.6667         66.6667  \n",
      "3  10.0000         50.0000  \n",
      "4  16.6667         40.0000  \n",
      "5  13.3333         23.3333  \n",
      "6  10.0000         10.0000  \n"
     ]
    }
   ],
   "source": [
    "df[\"F\"] = df[\"f\"].cumsum()\n",
    "df[\"G\"] = df.sort_values(by=variableEstudio,ascending=False)[\"f\"].cumsum()\n",
    "df[\"fr\"] = round(df[\"f\"] / df[\"f\"].sum(),4)\n",
    "df[\"fr %\"] = round(df[\"f\"] / df[\"f\"].sum()*100,4)\n",
    "df[\"Fr Acumulativo\"] = df[\"fr %\"].cumsum()\n",
    "df[\"Gr Acumulativo\"] = df.sort_values(by=variableEstudio,ascending=False)[\"fr %\"].cumsum()\n",
    "print(df)"
   ]
  },
  {
   "cell_type": "code",
   "execution_count": 36,
   "metadata": {},
   "outputs": [
    {
     "name": "stdout",
     "output_type": "stream",
     "text": [
      "5 campos tienen 11 terneros, 15 campos tienen como maximo 11 terneros, 20 campos tienen como minimo 11 terneros. El 16.6667% de los campos tiene 11 terneros\n"
     ]
    }
   ],
   "source": [
    "print(f\"{df.loc[2][\"f\"]} campos tienen {df.loc[2][variableEstudio]} terneros, {\n",
    "      df.loc[2][\"F\"]} campos tienen como maximo {df.loc[2][variableEstudio]} terneros, {df.loc[2][\"G\"]} campos tienen como minimo {df.loc[2][variableEstudio]} terneros. El {df.loc[2][\"Fr %\"]} de los campos tiene {df.loc[2][variableEstudio]} terneros\")"
   ]
  },
  {
   "cell_type": "code",
   "execution_count": 54,
   "metadata": {},
   "outputs": [
    {
     "name": "stdout",
     "output_type": "stream",
     "text": [
      "El promedio es 12.5667\n",
      "El coeficiente de variacion es 24.021 %, no es significativo\n"
     ]
    }
   ],
   "source": [
    "promedio = round((df[\"f\"] * df[variableEstudio]).sum() / df['f'].sum() ,4)\n",
    "\n",
    "\n",
    "varianza = round((df[\"f\"] * (df[variableEstudio] - promedio)\n",
    "            ** 2).sum() / df['f'].sum() - 1,4)\n",
    "\n",
    "\n",
    "cv = round((varianza ** 0.5 / promedio)*100,4)\n",
    "\n",
    "print(\"El promedio es\",promedio)\n",
    "significativo = \"es significativo\" if cv < 20 else \"no es significativo\"\n",
    "print(\"El coeficiente de variacion es\",cv,\"%,\",significativo)"
   ]
  },
  {
   "cell_type": "code",
   "execution_count": 62,
   "metadata": {},
   "outputs": [
    {
     "name": "stdout",
     "output_type": "stream",
     "text": [
      "La Cantidad de terneros mas frecuente es 10\n"
     ]
    }
   ],
   "source": [
    "print(f\"La {variableEstudio} mas frecuente es\",df.loc[df[\"f\"].idxmax(),variableEstudio])"
   ]
  },
  {
   "cell_type": "code",
   "execution_count": 72,
   "metadata": {},
   "outputs": [
    {
     "name": "stdout",
     "output_type": "stream",
     "text": [
      "11.5\n"
     ]
    }
   ],
   "source": [
    "mitad = df[\"f\"].sum() / 2\n",
    "mediana = 0\n",
    "\n",
    "for index, row in df.iterrows():\n",
    "  if row['F'] == mitad:\n",
    "    mediana = (df.loc[index+1][variableEstudio] + row[variableEstudio]) / 2\n",
    "    break \n",
    "  elif row[\"F\"] > mitad:\n",
    "    mediana = row[variableEstudio]\n",
    "    break\n",
    "\n",
    "print(mediana)"
   ]
  },
  {
   "cell_type": "code",
   "execution_count": 100,
   "metadata": {},
   "outputs": [
    {
     "name": "stdout",
     "output_type": "stream",
     "text": [
      "66.66669999999999\n",
      "76.66669999999999\n",
      "40.0\n",
      "50.0\n"
     ]
    }
   ],
   "source": [
    "print(df[df[variableEstudio] == 11][\"Gr Acumulativo\"][2])\n",
    "print(df[df[variableEstudio] == 14][\"Fr Acumulativo\"][4])\n",
    "print(df[df[variableEstudio] > 13][\"Gr Acumulativo\"].max())\n",
    "print(df[df[variableEstudio] < 12][\"Fr Acumulativo\"].max())"
   ]
  }
 ],
 "metadata": {
  "kernelspec": {
   "display_name": "Python 3",
   "language": "python",
   "name": "python3"
  },
  "language_info": {
   "codemirror_mode": {
    "name": "ipython",
    "version": 3
   },
   "file_extension": ".py",
   "mimetype": "text/x-python",
   "name": "python",
   "nbconvert_exporter": "python",
   "pygments_lexer": "ipython3",
   "version": "3.12.0"
  }
 },
 "nbformat": 4,
 "nbformat_minor": 2
}
