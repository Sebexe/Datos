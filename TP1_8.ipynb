{
 "cells": [
  {
   "cell_type": "code",
   "execution_count": 2,
   "metadata": {},
   "outputs": [],
   "source": [
    "import pandas as pd\n",
    "import numpy as np\n"
   ]
  },
  {
   "cell_type": "code",
   "execution_count": 3,
   "metadata": {},
   "outputs": [
    {
     "name": "stdout",
     "output_type": "stream",
     "text": [
      "  Monto Plazo Fijo   f     Li     Ls       Pm    F\n",
      "0          0-15000  50      0  15000   7500.0   50\n",
      "1      15000-30000  65  15000  30000  22500.0  115\n",
      "2      30000-45000  45  30000  45000  37500.0  160\n",
      "3      45000-60000  20  45000  60000  52500.0  180\n"
     ]
    }
   ],
   "source": [
    "varE = \"Monto Plazo Fijo\"\n",
    "\n",
    "df = pd.DataFrame(data={varE: [\"0-15000\",\"15000-30000\",\"30000-45000\",\"45000-60000\"], 'f':[50,65,45,20]})\n",
    "\n",
    "df[[\"Li\",\"Ls\"]] = df[varE].str.split(\"-\",expand=True).astype(\"int\") \n",
    "df[\"Pm\"] = (df[\"Ls\"] + df[\"Li\"])  / 2\n",
    "df[\"F\"] = df[\"f\"].cumsum()\n",
    "\n",
    "\n",
    "print(df)"
   ]
  },
  {
   "cell_type": "code",
   "execution_count": 10,
   "metadata": {},
   "outputs": [
    {
     "name": "stdout",
     "output_type": "stream",
     "text": [
      "El promedio es $25416.6667 con un coeficiente de variacion de 57.2074% por lo tanto no son homogeneos\n"
     ]
    }
   ],
   "source": [
    "promedio = round((df[\"f\"] * df[\"Pm\"]).sum() / df[\"f\"].sum(),4)\n",
    "\n",
    "varianza = (df[\"f\"] * (df[\"Pm\"] - promedio)**2).sum() / (df[\"f\"].sum() - 1)\n",
    "desviacion = varianza ** 0.5\n",
    "\n",
    "\n",
    "print(f\"El promedio es ${round(promedio,4)} con un coeficiente de variacion de {round((desviacion / promedio) * 100,4)}% por lo tanto no son homogeneos\")"
   ]
  },
  {
   "cell_type": "code",
   "execution_count": 12,
   "metadata": {},
   "outputs": [
    {
     "name": "stdout",
     "output_type": "stream",
     "text": [
      "El cliente debera tener minimo $39666.6667\n"
     ]
    }
   ],
   "source": [
    "total_frecuencias = df['f'].sum()\n",
    "intervalo_percentil = df[df['F'] >= total_frecuencias * 0.8].iloc[0]\n",
    "ancho_intervalo = intervalo_percentil[\"Ls\"] - intervalo_percentil[\"Li\"]\n",
    "\n",
    "percentilochenta = intervalo_percentil[\"Li\"] + (0.8 * total_frecuencias - intervalo_percentil[\"F\"] + intervalo_percentil['f']) / intervalo_percentil[\"f\"] * ancho_intervalo\n",
    "\n",
    "print(f\"El cliente debera tener minimo ${round(percentilochenta,4)}\")"
   ]
  },
  {
   "cell_type": "code",
   "execution_count": 13,
   "metadata": {},
   "outputs": [
    {
     "name": "stdout",
     "output_type": "stream",
     "text": [
      "El monto mas frecuente es $21428.5714 por lo que no se lanzara la campaña.\n"
     ]
    }
   ],
   "source": [
    "anterior = df.loc[df['f'].idxmax()-1]\n",
    "actual = df.loc[df['f'].idxmax()]\n",
    "siguiente = df.loc[df['f'].idxmax()+1]\n",
    "\n",
    "ancho_intervalo = actual[\"Ls\"] - actual[\"Li\"]\n",
    "\n",
    "moda = actual[\"Li\"] + ancho_intervalo * (actual[\"f\"] - anterior[\"f\"]) / ((actual[\"f\"] - anterior[\"f\"]) + (actual[\"f\"] - siguiente[\"f\"]))\n",
    "\n",
    "\n",
    "print(f\"El monto mas frecuente es ${round(moda,4)} por lo que no se lanzara la campaña.\")\n"
   ]
  },
  {
   "cell_type": "code",
   "execution_count": 7,
   "metadata": {},
   "outputs": [],
   "source": [
    "def calcularInverso(valor, df: pd.DataFrame):\n",
    "    # Buscar el intervalo\n",
    "    ia = None\n",
    "    ie = None\n",
    "    for index, row in df.iterrows():\n",
    "        if row['Li'] <= valor <= row['Ls']:\n",
    "            ie = row\n",
    "            if index != 0:\n",
    "              ia = df.loc[index-1]['F']\n",
    "            elif index == 0:\n",
    "                ia = 0\n",
    "            break\n",
    "    final = (valor - ie['Li']) / \\\n",
    "        (ie['Ls'] - ie['Li'])\n",
    "    final = final * ie['f']\n",
    "    final = final + ia\n",
    "    final = final * 100\n",
    "    final = final / df['F'].max()\n",
    "    return final"
   ]
  },
  {
   "cell_type": "code",
   "execution_count": 15,
   "metadata": {},
   "outputs": [
    {
     "name": "stdout",
     "output_type": "stream",
     "text": [
      "El porcentaje de clientes que invierte como minimo $11000 es el 20.3704%\n"
     ]
    }
   ],
   "source": [
    "percenti = calcularInverso(11000,df)\n",
    "print(f\"El porcentaje de clientes que invierte como minimo $11000 es el {round(percenti,4)}%\")"
   ]
  },
  {
   "cell_type": "code",
   "execution_count": 18,
   "metadata": {},
   "outputs": [
    {
     "name": "stdout",
     "output_type": "stream",
     "text": [
      "El rendimiento posee una asimetria positiva por lo que podemos decir que la mayoria de las inversiones son mayores al promedio\n"
     ]
    }
   ],
   "source": [
    "asimetria = \"asimetria positiva por lo que podemos decir que la mayoria de las inversiones son mayores al promedio\" if promedio > moda else \"asimetria negativa por lo que podemos decir que la mayoria de las inversiones son menores al promedio\"\n",
    "\n",
    "print(\"El rendimiento posee una\", asimetria)"
   ]
  }
 ],
 "metadata": {
  "kernelspec": {
   "display_name": "Python 3",
   "language": "python",
   "name": "python3"
  },
  "language_info": {
   "codemirror_mode": {
    "name": "ipython",
    "version": 3
   },
   "file_extension": ".py",
   "mimetype": "text/x-python",
   "name": "python",
   "nbconvert_exporter": "python",
   "pygments_lexer": "ipython3",
   "version": "3.12.0"
  }
 },
 "nbformat": 4,
 "nbformat_minor": 2
}
