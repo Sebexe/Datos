{
 "cells": [
  {
   "cell_type": "code",
   "execution_count": 3,
   "metadata": {},
   "outputs": [],
   "source": [
    "import pandas as pd\n",
    "import numpy as np\n"
   ]
  },
  {
   "cell_type": "code",
   "execution_count": 27,
   "metadata": {},
   "outputs": [
    {
     "name": "stdout",
     "output_type": "stream",
     "text": [
      "  Monto Plazo Fijo   f     Li     Ls       Pm    F\n",
      "0          0-15000  50      0  15000   7500.0   50\n",
      "1      15000-30000  65  15000  30000  22500.0  115\n",
      "2      30000-45000  45  30000  45000  37500.0  160\n",
      "3      45000-60000  20  45000  60000  52500.0  180\n"
     ]
    }
   ],
   "source": [
    "varE = \"Monto Plazo Fijo\"\n",
    "\n",
    "df = pd.DataFrame(data={varE: [\"0-15000\",\"15000-30000\",\"30000-45000\",\"45000-60000\"], 'f':[50,65,45,20]})\n",
    "\n",
    "df[[\"Li\",\"Ls\"]] = df[varE].str.split(\"-\",expand=True).astype(\"int\") \n",
    "df[\"Pm\"] = (df[\"Ls\"] + df[\"Li\"])  / 2\n",
    "df[\"F\"] = df[\"f\"].cumsum()\n",
    "\n",
    "\n",
    "print(df)"
   ]
  },
  {
   "cell_type": "code",
   "execution_count": 56,
   "metadata": {},
   "outputs": [
    {
     "name": "stdout",
     "output_type": "stream",
     "text": [
      "25416.6667\n",
      "57.2074 %\n"
     ]
    }
   ],
   "source": [
    "promedio = round((df[\"f\"] * df[\"Pm\"]).sum() / df[\"f\"].sum(),4)\n",
    "\n",
    "varianza = (df[\"f\"] * (df[\"Pm\"] - promedio)**2).sum() / (df[\"f\"].sum() - 1)\n",
    "desviacion = varianza ** 0.5\n",
    "\n",
    "\n",
    "print(promedio)\n",
    "print(round((desviacion / promedio) * 100,4),\"%\")"
   ]
  },
  {
   "cell_type": "code",
   "execution_count": 44,
   "metadata": {},
   "outputs": [
    {
     "name": "stdout",
     "output_type": "stream",
     "text": [
      "39666.66666666667\n"
     ]
    }
   ],
   "source": [
    "total_frecuencias = df['f'].sum()\n",
    "intervalo_percentil = df[df['F'] >= total_frecuencias * 0.8].iloc[0]\n",
    "ancho_intervalo = intervalo_percentil[\"Ls\"] - intervalo_percentil[\"Li\"]\n",
    "\n",
    "percentilochenta = intervalo_percentil[\"Li\"] + (0.8 * total_frecuencias - intervalo_percentil[\"F\"] + intervalo_percentil['f']) / intervalo_percentil[\"f\"] * ancho_intervalo\n",
    "\n",
    "print(percentilochenta)"
   ]
  },
  {
   "cell_type": "code",
   "execution_count": 50,
   "metadata": {},
   "outputs": [
    {
     "name": "stdout",
     "output_type": "stream",
     "text": [
      "21428.571428571428\n",
      "15\n"
     ]
    }
   ],
   "source": [
    "anterior = df.loc[df['f'].idxmax()-1]\n",
    "actual = df.loc[df['f'].idxmax()]\n",
    "siguiente = df.loc[df['f'].idxmax()+1]\n",
    "\n",
    "ancho_intervalo = actual[\"Ls\"] - actual[\"Li\"]\n",
    "\n",
    "moda = actual[\"Li\"] + ancho_intervalo * (actual[\"f\"] - anterior[\"f\"]) / ((actual[\"f\"] - anterior[\"f\"]) + (actual[\"f\"] - siguiente[\"f\"]))\n",
    "\n",
    "\n",
    "print(moda)\n",
    "\n",
    "print((actual[\"f\"] - anterior[\"f\"]))"
   ]
  },
  {
   "cell_type": "code",
   "execution_count": 53,
   "metadata": {},
   "outputs": [],
   "source": [
    "def calcularInverso(valor, df: pd.DataFrame):\n",
    "    # Buscar el intervalo\n",
    "    ia = None\n",
    "    ie = None\n",
    "    for index, row in df.iterrows():\n",
    "        if row['Li'] <= valor <= row['Ls']:\n",
    "            ie = row\n",
    "            if index != 0:\n",
    "              ia = df.loc[index-1]['F']\n",
    "            elif index == 0:\n",
    "                ia = 0\n",
    "            break\n",
    "    final = (valor - ie['Li']) / \\\n",
    "        (ie['Ls'] - ie['Li'])\n",
    "    final = final * ie['f']\n",
    "    final = final + ia\n",
    "    final = final * 100\n",
    "    final = final / df['F'].max()\n",
    "    return final"
   ]
  },
  {
   "cell_type": "code",
   "execution_count": 55,
   "metadata": {},
   "outputs": [
    {
     "name": "stdout",
     "output_type": "stream",
     "text": [
      "20.37037037037037\n"
     ]
    }
   ],
   "source": [
    "percenti = calcularInverso(11000,df)\n",
    "print(percenti)"
   ]
  }
 ],
 "metadata": {
  "kernelspec": {
   "display_name": "Python 3",
   "language": "python",
   "name": "python3"
  },
  "language_info": {
   "codemirror_mode": {
    "name": "ipython",
    "version": 3
   },
   "file_extension": ".py",
   "mimetype": "text/x-python",
   "name": "python",
   "nbconvert_exporter": "python",
   "pygments_lexer": "ipython3",
   "version": "3.12.0"
  }
 },
 "nbformat": 4,
 "nbformat_minor": 2
}
