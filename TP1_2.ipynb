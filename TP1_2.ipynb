{
 "cells": [
  {
   "cell_type": "code",
   "execution_count": 2,
   "metadata": {},
   "outputs": [],
   "source": [
    "import pandas as pd\n",
    "import numpy as np"
   ]
  },
  {
   "cell_type": "code",
   "execution_count": 3,
   "metadata": {},
   "outputs": [],
   "source": [
    "datos = pd.Series([719.5,722,720,718.3,725,718.2,720,723.8])"
   ]
  },
  {
   "cell_type": "code",
   "execution_count": 6,
   "metadata": {},
   "outputs": [
    {
     "name": "stdout",
     "output_type": "stream",
     "text": [
      "La moda es 720.0 kg\n",
      "La mediana es 720.0 kg\n",
      "El promedio es 720.85 kg\n",
      "La varianza es 6.2914\n",
      "La desviacion es 2.5083 kg\n",
      "El coeficiente de variacion es 0.348%\n"
     ]
    }
   ],
   "source": [
    "moda = datos.mode()[0]\n",
    "mediana = datos.median()\n",
    "promedio = datos.mean()\n",
    "\n",
    "print(f\"La moda es {round(moda,4)} kg\")\n",
    "print(f\"La mediana es {round(mediana,4)} kg\")\n",
    "print(f\"El promedio es {round(promedio,4)} kg\")\n",
    "\n",
    "\n",
    "print(f\"La varianza es {round(datos.var(),4)}\")\n",
    "print(f\"La desviacion es {round(datos.var()**0.5,4)} kg\")\n",
    "print(f\"El coeficiente de variacion es {round(((datos.var()**0.5)/ promedio)*100,4)}%\")\n",
    "\n"
   ]
  }
 ],
 "metadata": {
  "kernelspec": {
   "display_name": "Python 3",
   "language": "python",
   "name": "python3"
  },
  "language_info": {
   "codemirror_mode": {
    "name": "ipython",
    "version": 3
   },
   "file_extension": ".py",
   "mimetype": "text/x-python",
   "name": "python",
   "nbconvert_exporter": "python",
   "pygments_lexer": "ipython3",
   "version": "3.12.0"
  }
 },
 "nbformat": 4,
 "nbformat_minor": 2
}
