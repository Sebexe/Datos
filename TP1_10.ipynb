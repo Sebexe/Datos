{
 "cells": [
  {
   "cell_type": "code",
   "execution_count": 22,
   "metadata": {},
   "outputs": [],
   "source": [
    "import pandas as pd\n",
    "import numpy as np\n",
    "import matplotlib.pyplot as plt\n"
   ]
  },
  {
   "cell_type": "code",
   "execution_count": 23,
   "metadata": {},
   "outputs": [
    {
     "name": "stdout",
     "output_type": "stream",
     "text": [
      "  Rendimiento Kg/Ha   f    Li    Ls      Pm    F    A\n",
      "0         1400-1500   2  1400  1500  1450.0    2  100\n",
      "1         1500-1600   7  1500  1600  1550.0    9  100\n",
      "2         1600-1700  26  1600  1700  1650.0   35  100\n",
      "3         1700-1800  64  1700  1800  1750.0   99  100\n",
      "4         1800-1900  57  1800  1900  1850.0  156  100\n",
      "5         1900-2000  33  1900  2000  1950.0  189  100\n",
      "6         2000-2100  10  2000  2100  2050.0  199  100\n",
      "7         2100-2200   1  2100  2200  2150.0  200  100\n"
     ]
    }
   ],
   "source": [
    "varE: str = \"Rendimiento Kg/Ha\"\n",
    "df = pd.DataFrame({varE: [\"1400-1500\", \"1500-1600\", \"1600-1700\", \"1700-1800\", \"1800-1900\",\n",
    "                  \"1900-2000\", \"2000-2100\", \"2100-2200\"], \"f\": [2, 7, 26, 64, 57, 33, 10, 1]})\n",
    "\n",
    "df[ [\"Li\",\"Ls\"]] = df[varE].str.split(\"-\",expand=True).astype(\"int\")\n",
    "df[\"Pm\"] = (df[\"Ls\"] + df[\"Li\"]) / 2\n",
    "df[\"F\"] = df[\"f\"].cumsum()\n",
    "df[\"A\"] = (df[\"Ls\"] - df[\"Li\"]) \n",
    "print(df)"
   ]
  },
  {
   "cell_type": "code",
   "execution_count": 24,
   "metadata": {},
   "outputs": [
    {
     "name": "stdout",
     "output_type": "stream",
     "text": [
      "El promedio es 1805.5\n",
      "El coeficiente de variacion es 6.8613%\n"
     ]
    }
   ],
   "source": [
    "promedio = (df[\"f\"] * df[\"Pm\"]).sum() / df[\"f\"].sum()\n",
    "varianza = (df[\"f\"] * (df[\"Pm\"] - promedio)**2).sum() / (df[\"f\"].sum() - 1)\n",
    "desviacion = varianza ** 0.5\n",
    "\n",
    "print(f\"El promedio es {promedio}\")\n",
    "print(f\"El coeficiente de variacion es {round((desviacion / promedio) * 100,4)}%\")"
   ]
  },
  {
   "cell_type": "code",
   "execution_count": 25,
   "metadata": {},
   "outputs": [],
   "source": [
    "def calcularPercentil(valor, df):\n",
    "  percentil_decimal = valor / 100\n",
    "  total_frecuencias = df['f'].sum()\n",
    "  intervalo_percentil = df[df['F'] >=\n",
    "                           total_frecuencias * percentil_decimal].iloc[0]\n",
    "  ancho_intervalo = intervalo_percentil[\"Ls\"] - intervalo_percentil[\"Li\"]\n",
    "\n",
    "  percentil = intervalo_percentil[\"Li\"] + (percentil_decimal * total_frecuencias - intervalo_percentil[\"F\"]\n",
    "                                           + intervalo_percentil['f']) / intervalo_percentil[\"f\"] * ancho_intervalo\n",
    "\n",
    "  return percentil\n",
    "\n",
    "\n",
    "def calcularInverso(valor, df: pd.DataFrame):\n",
    "    # Buscar el intervalo\n",
    "    ia = None\n",
    "    ie = None\n",
    "    for index, row in df.iterrows():\n",
    "        if row['Li'] <= valor <= row['Ls']:\n",
    "            ie = row\n",
    "            if index != 0:\n",
    "              ia = df.loc[index-1]['F']\n",
    "            elif index == 0:\n",
    "                ia = 0\n",
    "            break\n",
    "    final = (valor - ie['Li']) / \\\n",
    "        (ie['Ls'] - ie['Li'])\n",
    "    final = final * ie['f']\n",
    "    final = final + ia\n",
    "    final = final * 100\n",
    "    final = final / df['F'].max()\n",
    "    return final"
   ]
  },
  {
   "cell_type": "code",
   "execution_count": 26,
   "metadata": {},
   "outputs": [
    {
     "name": "stdout",
     "output_type": "stream",
     "text": [
      "El porcentaje de establecimiento que ha superado los 2000 kg/ha es 5.5%\n",
      "El rendimiento garantizado es de 1642.3077 kg/ha\n"
     ]
    }
   ],
   "source": [
    "print(f\"El porcentaje de establecimiento que ha superado los 2000 kg/ha es {100-calcularInverso(2000,df)}%\")\n",
    "\n",
    "print(f\"El rendimiento garantizado es de {round(calcularPercentil(10,df),4)} kg/ha\")\n",
    "\n"
   ]
  },
  {
   "cell_type": "code",
   "execution_count": 27,
   "metadata": {},
   "outputs": [
    {
     "name": "stdout",
     "output_type": "stream",
     "text": [
      "Asimetria positiva\n"
     ]
    }
   ],
   "source": [
    "anterior = df.loc[df['f'].idxmax()-1]\n",
    "actual = df.loc[df['f'].idxmax()]\n",
    "siguiente = df.loc[df['f'].idxmax()+1]\n",
    "\n",
    "ancho_intervalo = actual[\"Ls\"] - actual[\"Li\"]\n",
    "\n",
    "moda = actual[\"Li\"] + ancho_intervalo * (actual[\"f\"] - anterior[\"f\"]) / (\n",
    "    (actual[\"f\"] - anterior[\"f\"]) + (actual[\"f\"] - siguiente[\"f\"]))\n",
    "\n",
    "simetria = \"Asimetria positiva\" if promedio > moda else \"Asimetria Negativa\"\n",
    "\n",
    "print(simetria)"
   ]
  },
  {
   "cell_type": "code",
   "execution_count": 28,
   "metadata": {},
   "outputs": [
    {
     "data": {
      "image/png": "[encoded data removed]",
      "text/plain": [
       "<Figure size 640x480 with 1 Axes>"
      ]
     },
     "metadata": {},
     "output_type": "display_data"
    }
   ],
   "source": [
    "plt.bar(df[\"Pm\"], df[\"f\"], width=df[\"A\"], align=\"center\",\n",
    "        alpha=0.6, color=\"g\", edgecolor=\"k\")\n",
    "plt.title(\"Histograma de Rendimiento Kg/Ha\")\n",
    "plt.xlabel(\"Rendimiento Kg/Ha\")\n",
    "plt.ylabel(\"Frecuencia\")\n",
    "plt.grid(True)\n",
    "plt.show()"
   ]
  }
 ],
 "metadata": {
  "kernelspec": {
   "display_name": "Python 3",
   "language": "python",
   "name": "python3"
  },
  "language_info": {
   "codemirror_mode": {
    "name": "ipython",
    "version": 3
   },
   "file_extension": ".py",
   "mimetype": "text/x-python",
   "name": "python",
   "nbconvert_exporter": "python",
   "pygments_lexer": "ipython3",
   "version": "3.12.0"
  }
 },
 "nbformat": 4,
 "nbformat_minor": 2
}
