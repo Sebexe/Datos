{
 "cells": [
  {
   "cell_type": "code",
   "execution_count": 2,
   "metadata": {},
   "outputs": [],
   "source": [
    "import pandas as pd\n",
    "import numpy as np"
   ]
  },
  {
   "cell_type": "code",
   "execution_count": 3,
   "metadata": {},
   "outputs": [
    {
     "name": "stdout",
     "output_type": "stream",
     "text": [
      "El proveedor A tarda en promedio 8.8 dias, con un coeficiente de variacion de 11.7363%\n",
      "El proveedor B tarda en promedio 9.1 dias, con un coeficiente de variacion de 16.746%\n",
      "Por lo tanto el mejor es el proveedor A\n"
     ]
    }
   ],
   "source": [
    "proveedorA = pd.Series([7, 8, 8, 8, 9, 9, 9, 10, 10, 10])\n",
    "proveedorB = pd.Series([6, 8, 8, 9, 9, 9, 10, 10, 11, 11])\n",
    "\n",
    "print(f\"El proveedor A tarda en promedio {proveedorA.mean(\n",
    ")} dias, con un coeficiente de variacion de {round((proveedorA.var()**0.5 / proveedorA.mean()) * 100,4)}%\")\n",
    "\n",
    "print(f\"El proveedor B tarda en promedio {proveedorB.mean(\n",
    ")} dias, con un coeficiente de variacion de {round((proveedorB.var()**0.5 / proveedorB.mean()) * 100,4)}%\")\n",
    "\n",
    "\n",
    "mejor = \"proveedor A\" if round((proveedorA.var()**0.5 / proveedorA.mean()) * 100,4) <round((proveedorB.var()**0.5 / proveedorB.mean()) * 100,4) else \"proveedor B\"\n",
    "\n",
    "print(\"Por lo tanto el mejor es el\",mejor)"
   ]
  }
 ],
 "metadata": {
  "kernelspec": {
   "display_name": "Python 3",
   "language": "python",
   "name": "python3"
  },
  "language_info": {
   "codemirror_mode": {
    "name": "ipython",
    "version": 3
   },
   "file_extension": ".py",
   "mimetype": "text/x-python",
   "name": "python",
   "nbconvert_exporter": "python",
   "pygments_lexer": "ipython3",
   "version": "3.12.0"
  }
 },
 "nbformat": 4,
 "nbformat_minor": 2
}
