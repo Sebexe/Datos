{
 "cells": [
  {
   "cell_type": "code",
   "execution_count": 19,
   "metadata": {},
   "outputs": [],
   "source": [
    "import pandas as pd\n",
    "import numpy as np"
   ]
  },
  {
   "cell_type": "code",
   "execution_count": 20,
   "metadata": {},
   "outputs": [
    {
     "name": "stdout",
     "output_type": "stream",
     "text": [
      "  Demanda de carne Kg   f   F   Li   Ls   A     Pm\n",
      "0             240-250   7   7  240  250  10  245.0\n",
      "1             250-260  10  17  250  260  10  255.0\n",
      "2             260-280   6  23  260  280  20  270.0\n",
      "3             280-300   8  31  280  300  20  290.0\n"
     ]
    }
   ],
   "source": [
    "varE = \"Demanda de carne Kg\"\n",
    "df = pd.DataFrame({varE: ['240-250', '250-260', '260-280', '280-300'],\"f\":[7,10,6,8]})\n",
    "\n",
    "df[\"F\"] = df[\"f\"].cumsum()\n",
    "df[[\"Li\", \"Ls\"]] = df[varE].str.split(\"-\", expand=True).astype(int)\n",
    "df[\"A\"] = df[\"Ls\"] - df[\"Li\"]\n",
    "df[\"Pm\"] = (df[\"Ls\"] + df[\"Li\"]) / 2\n",
    "\n",
    "\n",
    "print(df)"
   ]
  },
  {
   "cell_type": "code",
   "execution_count": 21,
   "metadata": {},
   "outputs": [
    {
     "name": "stdout",
     "output_type": "stream",
     "text": [
      "El promedio es 264.6774 tn/ha\n",
      "La varianza es 298.2258\n",
      "La desviacion es 17.2692 tn/ha\n",
      "El coeficiente de variacion es 6.5246%\n",
      "Los datos son homogeneos por lo que es una medida significativa.\n"
     ]
    }
   ],
   "source": [
    "promedio = (df[\"f\"] * df[\"Pm\"]).sum() / df[\"f\"].sum()\n",
    "varianza = (df[\"f\"] * ((df[\"Pm\"] - promedio) ** 2)).sum() / (df[\"f\"].sum() - 1)\n",
    "desviacion = varianza**0.5\n",
    "Ca = desviacion / promedio\n",
    "estado = \"homogeneos\" if Ca < 0.20 else \"heterogeneos\"\n",
    "\n",
    "print(f\"El promedio es {round(promedio,4)} tn/ha\")\n",
    "print(f\"La varianza es {round(varianza,4)}\")\n",
    "print(f\"La desviacion es {round(desviacion, 4)} tn/ha\")\n",
    "print(f\"El coeficiente de variacion es {round(Ca*100, 4)}%\")\n",
    "print(f\"Los datos son {estado} por lo que es una medida significativa.\")"
   ]
  },
  {
   "cell_type": "code",
   "execution_count": 22,
   "metadata": {},
   "outputs": [
    {
     "name": "stdout",
     "output_type": "stream",
     "text": [
      "La moda es 254.2857 kg por lo que no tomara mas personal\n"
     ]
    }
   ],
   "source": [
    "indiceClaseModal = df[\"f\"].idxmax()\n",
    "claseAnterior = df.loc[indiceClaseModal-1]\n",
    "claseModal = df.loc[indiceClaseModal]\n",
    "claseSiguiente = df.loc[indiceClaseModal+1]\n",
    "\n",
    "moda = claseModal[\"Li\"] + claseModal[\"A\"] * (claseModal[\"f\"] - claseAnterior[\"f\"]) / ((claseModal[\"f\"] -\n",
    "                                                                                       claseAnterior[\"f\"]) + (claseModal[\"f\"] - claseSiguiente[\"f\"]))\n",
    "\n",
    "masPersonal = f'La moda es {round(moda,4)} por lo que tomara mas personal' if moda > 255 else f'La moda es {\n",
    "    round(moda, 4)} kg por lo que no tomara mas personal'\n",
    "\n",
    "\n",
    "\n",
    "print(masPersonal)"
   ]
  },
  {
   "cell_type": "code",
   "execution_count": 23,
   "metadata": {},
   "outputs": [],
   "source": [
    "def calcularPercentil(k: int, df: pd.DataFrame):\n",
    "  frecuencia = (k / 100) * df[\"f\"].sum()\n",
    "  intervalo_percentil = df[df[\"F\"] >= frecuencia].iloc[0]\n",
    "\n",
    "  percentil = intervalo_percentil[\"Li\"] + (\n",
    "      frecuencia - intervalo_percentil[\"F\"] + intervalo_percentil[\"f\"]) / intervalo_percentil[\"f\"] * intervalo_percentil[\"A\"]\n",
    "\n",
    "  return percentil\n",
    "\n",
    "\n",
    "def calcularInverso(valor, df: pd.DataFrame):\n",
    "    # Buscar el intervalo\n",
    "    ia = None\n",
    "    ie = None\n",
    "    for index, row in df.iterrows():\n",
    "        if row['Li'] <= valor <= row['Ls']:\n",
    "            ie = row\n",
    "            if index != 0:\n",
    "              ia = df.loc[index-1]['F']\n",
    "            elif index == 0:\n",
    "                ia = 0\n",
    "            break\n",
    "    final = (valor - ie['Li']) / \\\n",
    "        (ie['Ls'] - ie['Li'])\n",
    "    final = final * ie['f']\n",
    "    final = final + ia\n",
    "    final = final * 100\n",
    "    final = final / df['F'].max()\n",
    "    return final"
   ]
  },
  {
   "cell_type": "code",
   "execution_count": 24,
   "metadata": {},
   "outputs": [
    {
     "name": "stdout",
     "output_type": "stream",
     "text": [
      "La maxima cantidad de carne demandada el 30% de los dias de menor demanda es 252.3 kg\n"
     ]
    }
   ],
   "source": [
    "print(f\"La maxima cantidad de carne demandada el 30% de los dias de menor demanda es {round(calcularPercentil(30,df),4)} kg\")"
   ]
  },
  {
   "cell_type": "code",
   "execution_count": 25,
   "metadata": {},
   "outputs": [
    {
     "name": "stdout",
     "output_type": "stream",
     "text": [
      "El porcentaje de dias que se demandan mas de 285 kg es 19.3548%\n"
     ]
    }
   ],
   "source": [
    "print(f\"El porcentaje de dias que se demandan mas de 285 kg es {round(100-calcularInverso(285,df),4)}%\")"
   ]
  },
  {
   "cell_type": "code",
   "execution_count": 26,
   "metadata": {},
   "outputs": [
    {
     "name": "stdout",
     "output_type": "stream",
     "text": [
      "El rendimiento posee una asimetria positiva por lo que podemos decir que la demanda es mayor al promedio\n"
     ]
    }
   ],
   "source": [
    "asimetria = \"asimetria positiva por lo que podemos decir que la demanda es mayor al promedio\" if promedio > moda else \"asimetria negativa por lo que podemos decir que la demanda es menor al promedio\"\n",
    "\n",
    "print(\"El rendimiento posee una\", asimetria)"
   ]
  }
 ],
 "metadata": {
  "kernelspec": {
   "display_name": "Python 3",
   "language": "python",
   "name": "python3"
  },
  "language_info": {
   "codemirror_mode": {
    "name": "ipython",
    "version": 3
   },
   "file_extension": ".py",
   "mimetype": "text/x-python",
   "name": "python",
   "nbconvert_exporter": "python",
   "pygments_lexer": "ipython3",
   "version": "3.12.0"
  }
 },
 "nbformat": 4,
 "nbformat_minor": 2
}
