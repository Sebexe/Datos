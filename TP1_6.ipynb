{
 "cells": [
  {
   "cell_type": "code",
   "execution_count": 1,
   "metadata": {},
   "outputs": [],
   "source": [
    "import numpy as np\n",
    "import pandas as pd"
   ]
  },
  {
   "cell_type": "code",
   "execution_count": 5,
   "metadata": {},
   "outputs": [
    {
     "name": "stdout",
     "output_type": "stream",
     "text": [
      "  Rendimiento tn/ha   f   F  Li  Ls  A   Pm\n",
      "0               0-2  11  11   0   2  2  1.0\n",
      "1               2-4  23  34   2   4  2  3.0\n",
      "2               4-6   6  40   4   6  2  5.0\n",
      "3               6-8   8  48   6   8  2  7.0\n",
      "4              8-10   2  50   8  10  2  9.0\n"
     ]
    }
   ],
   "source": [
    "varE = \"Rendimiento tn/ha\"\n",
    "df = pd.DataFrame( {varE:[\"0-2\",\"2-4\",\"4-6\",\"6-8\",\"8-10\"], \"f\":[11,23,6,8,2] })\n",
    "df[\"F\"] = df[\"f\"].cumsum()\n",
    "df[ [\"Li\",\"Ls\"]] = df[varE].str.split(\"-\",expand=True).astype(int)\n",
    "df[\"A\"] = df[\"Ls\"] - df[\"Li\"]\n",
    "df[\"Pm\"] = (df[\"Ls\"] + df[\"Li\"]) / 2 \n",
    "\n",
    "print(df)"
   ]
  },
  {
   "cell_type": "code",
   "execution_count": 10,
   "metadata": {},
   "outputs": [
    {
     "name": "stdout",
     "output_type": "stream",
     "text": [
      "El promedio es 3.68\n",
      "La varianza es 4.997551020408163\n",
      "La desviacion es 2.2355 tn/ha\n",
      "El coeficiente de variacion es 60.7478%\n",
      "Los datos son heterogeneos\n"
     ]
    }
   ],
   "source": [
    "promedio = (df[\"f\"] * df[\"Pm\"]).sum() / df[\"f\"].sum()\n",
    "varianza = (df[\"f\"] * ((df[\"Pm\"] - promedio) ** 2)).sum() / (df[\"f\"].sum() - 1)\n",
    "desviacion = varianza**0.5\n",
    "Ca = desviacion / promedio\n",
    "estado = \"homogeneos\" if Ca < 0.20 else \"heterogeneos\"\n",
    "\n",
    "print(f\"El promedio es {promedio}\")\n",
    "print(f\"La varianza es {varianza}\")\n",
    "print(f\"La desviacion es {round(desviacion,4)} tn/ha\")\n",
    "print(f\"El coeficiente de variacion es {round(Ca*100,4)}%\")\n",
    "print(f\"Los datos son {estado}\")"
   ]
  },
  {
   "cell_type": "code",
   "execution_count": 14,
   "metadata": {},
   "outputs": [
    {
     "name": "stdout",
     "output_type": "stream",
     "text": [
      "La moda es 2.8276 tn/ha\n"
     ]
    }
   ],
   "source": [
    "indiceClaseModal = df[\"f\"].idxmax()\n",
    "claseAnterior = df.loc[indiceClaseModal-1]\n",
    "claseModal = df.loc[indiceClaseModal]\n",
    "claseSiguiente = df.loc[indiceClaseModal+1]\n",
    "\n",
    "moda =claseModal[\"Li\"] + claseModal[\"A\"] * (claseModal[\"f\"] - claseAnterior[\"f\"]) / ((claseModal[\"f\"] -\n",
    "                                                  claseAnterior[\"f\"]) + (claseModal[\"f\"] - claseSiguiente[\"f\"]))\n",
    "\n",
    "print(f\"La moda es {round(moda,4)} tn/ha\")"
   ]
  },
  {
   "cell_type": "code",
   "execution_count": 35,
   "metadata": {},
   "outputs": [],
   "source": [
    "def calcularPercentil(k:int,df:pd.DataFrame):\n",
    "  frecuencia = (k / 100) * df[\"f\"].sum()\n",
    "  intervalo_percentil = df[ df[\"F\"] >= frecuencia].iloc[0]\n",
    "\n",
    "  percentil = intervalo_percentil[\"Li\"] + (\n",
    "      frecuencia - intervalo_percentil[\"F\"] + intervalo_percentil[\"f\"]) / intervalo_percentil[\"f\"] * intervalo_percentil[\"A\"]\n",
    "\n",
    "  return percentil"
   ]
  },
  {
   "cell_type": "code",
   "execution_count": 38,
   "metadata": {},
   "outputs": [
    {
     "name": "stdout",
     "output_type": "stream",
     "text": [
      "El porcentaje no superado por el 10% de los campos es 0.9091\n",
      "El porcentaje superado por el 25% de los campos es 5.1667\n"
     ]
    }
   ],
   "source": [
    "print(f\"El porcentaje no superado por el 10% de los campos es {round(calcularPercentil(10,df),4)}\")\n",
    "print(f\"El porcentaje superado por el 25% de los campos es {round(calcularPercentil(75,df),4)}\")"
   ]
  },
  {
   "cell_type": "code",
   "execution_count": 39,
   "metadata": {},
   "outputs": [],
   "source": [
    "def calcularInverso(valor, df: pd.DataFrame):\n",
    "    # Buscar el intervalo\n",
    "    ia = None\n",
    "    ie = None\n",
    "    for index, row in df.iterrows():\n",
    "        if row['Li'] <= valor <= row['Ls']:\n",
    "            ie = row\n",
    "            if index != 0:\n",
    "              ia = df.loc[index-1]['F']\n",
    "            elif index == 0:\n",
    "                ia = 0\n",
    "            break\n",
    "    final = (valor - ie['Li']) / \\\n",
    "        (ie['Ls'] - ie['Li'])\n",
    "    final = final * ie['f']\n",
    "    final = final + ia\n",
    "    final = final * 100\n",
    "    final = final / df['F'].max()\n",
    "    return final"
   ]
  },
  {
   "cell_type": "code",
   "execution_count": 42,
   "metadata": {},
   "outputs": [
    {
     "name": "stdout",
     "output_type": "stream",
     "text": [
      "El 27.8% tiene un rendimiento superior a 4.7 tn/ha.\n"
     ]
    }
   ],
   "source": [
    "print(f\"El {round(100-calcularInverso(4.7,df),4)}% tiene un rendimiento superior a 4.7 tn/ha.\")"
   ]
  },
  {
   "cell_type": "code",
   "execution_count": 44,
   "metadata": {},
   "outputs": [
    {
     "name": "stdout",
     "output_type": "stream",
     "text": [
      "El rendimiento posee una asimetria positiva por lo que podemos decir que es incorrecto\n"
     ]
    }
   ],
   "source": [
    "asimetria = \"asimetria positiva\" if promedio > moda else \"asimetria negativa\"\n",
    "\n",
    "print(\"El rendimiento posee una\",asimetria, \"por lo que podemos decir que es incorrecto\")"
   ]
  }
 ],
 "metadata": {
  "kernelspec": {
   "display_name": "Python 3",
   "language": "python",
   "name": "python3"
  },
  "language_info": {
   "codemirror_mode": {
    "name": "ipython",
    "version": 3
   },
   "file_extension": ".py",
   "mimetype": "text/x-python",
   "name": "python",
   "nbconvert_exporter": "python",
   "pygments_lexer": "ipython3",
   "version": "3.12.0"
  }
 },
 "nbformat": 4,
 "nbformat_minor": 2
}
